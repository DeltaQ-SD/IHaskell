{
 "cells": [
  {
   "cell_type": "markdown",
   "id": "b11ef99e-b811-4215-a1ee-aa161cf901f9",
   "metadata": {},
   "source": [
    "# Widget List"
   ]
  },
  {
   "cell_type": "code",
   "execution_count": 1,
   "id": "db4f655b-d163-4dd5-a8cf-8a5cf0fbca48",
   "metadata": {},
   "outputs": [
    {
     "data": {
      "text/html": [
       "<style>/* Styles used for the Hoogle display in the pager */\n",
       ".hoogle-doc {\n",
       "display: block;\n",
       "padding-bottom: 1.3em;\n",
       "padding-left: 0.4em;\n",
       "}\n",
       ".hoogle-code {\n",
       "display: block;\n",
       "font-family: monospace;\n",
       "white-space: pre;\n",
       "}\n",
       ".hoogle-text {\n",
       "display: block;\n",
       "}\n",
       ".hoogle-name {\n",
       "color: green;\n",
       "font-weight: bold;\n",
       "}\n",
       ".hoogle-head {\n",
       "font-weight: bold;\n",
       "}\n",
       ".hoogle-sub {\n",
       "display: block;\n",
       "margin-left: 0.4em;\n",
       "}\n",
       ".hoogle-package {\n",
       "font-weight: bold;\n",
       "font-style: italic;\n",
       "}\n",
       ".hoogle-module {\n",
       "font-weight: bold;\n",
       "}\n",
       ".hoogle-class {\n",
       "font-weight: bold;\n",
       "}\n",
       ".get-type {\n",
       "color: green;\n",
       "font-weight: bold;\n",
       "font-family: monospace;\n",
       "display: block;\n",
       "white-space: pre-wrap;\n",
       "}\n",
       ".show-type {\n",
       "color: green;\n",
       "font-weight: bold;\n",
       "font-family: monospace;\n",
       "margin-left: 1em;\n",
       "}\n",
       ".mono {\n",
       "font-family: monospace;\n",
       "display: block;\n",
       "}\n",
       ".err-msg {\n",
       "color: red;\n",
       "font-style: italic;\n",
       "font-family: monospace;\n",
       "white-space: pre;\n",
       "display: block;\n",
       "}\n",
       "#unshowable {\n",
       "color: red;\n",
       "font-weight: bold;\n",
       "}\n",
       ".err-msg.in.collapse {\n",
       "padding-top: 0.7em;\n",
       "}\n",
       ".highlight-code {\n",
       "white-space: pre;\n",
       "font-family: monospace;\n",
       "}\n",
       ".suggestion-warning { \n",
       "font-weight: bold;\n",
       "color: rgb(200, 130, 0);\n",
       "}\n",
       ".suggestion-error { \n",
       "font-weight: bold;\n",
       "color: red;\n",
       "}\n",
       ".suggestion-name {\n",
       "font-weight: bold;\n",
       "}\n",
       "</style><div class=\"suggestion-name\" style=\"clear:both;\">Unused LANGUAGE pragma</div><div class=\"suggestion-row\" style=\"float: left;\"><div class=\"suggestion-warning\">Found:</div><div class=\"highlight-code\" id=\"haskell\">{-# LANGUAGE OverloadedStrings #-}</div></div><div class=\"suggestion-row\" style=\"float: left;\"><div class=\"suggestion-warning\">Why Not:</div><div class=\"highlight-code\" id=\"haskell\"></div></div>"
      ],
      "text/plain": [
       "Line 1: Unused LANGUAGE pragma\n",
       "Found:\n",
       "{-# LANGUAGE OverloadedStrings #-}\n",
       "Why not:"
      ]
     },
     "metadata": {},
     "output_type": "display_data"
    }
   ],
   "source": [
    "{-# LANGUAGE OverloadedStrings #-}\n",
    "import IHaskell.Display.Widgets"
   ]
  },
  {
   "cell_type": "code",
   "execution_count": 2,
   "id": "380ba438-5bf2-4fac-a529-054156100fe8",
   "metadata": {},
   "outputs": [
    {
     "data": {
      "text/plain": [
       "5"
      ]
     },
     "metadata": {},
     "output_type": "display_data"
    }
   ],
   "source": [
    "3 + 2"
   ]
  },
  {
   "cell_type": "markdown",
   "id": "a5c589b6-889d-4147-8381-a261f6dbbe0b",
   "metadata": {},
   "source": [
    "## Numeric widgets\n",
    "These are widgets designed to display numeric values. You can display both integers and floats, with or wihtout bounding.\n",
    "\n",
    "These widgets usually share the same naming scheme, so you can find the `Float`/`Int` counterpart replacing `Int` with `Float` or viceversa."
   ]
  },
  {
   "cell_type": "markdown",
   "id": "b582ed8f-8221-4d9d-886e-bafd13574837",
   "metadata": {},
   "source": [
    "### IntSlider\n",
    "- Initially the slider is displayed with `IntValue`. You can define the lower/upper bounds with `MinInt` and `MaxInt`, the value increments/decrements according to `StepInt`. If `StepInt` is `Nothing`, you let the frontend decide.\n",
    "- You can specify a label in the `Description` field\n",
    "- The slider orientation is either `HorizontalOrientation` or `VerticalOrientation`\n",
    "- `ReadOut` chooses whether to display the value next to the slider, and `ReadOutFormat` specifies the format in a similar way to the format used by `printf`."
   ]
  },
  {
   "cell_type": "code",
   "execution_count": null,
   "id": "d2954629-2d81-4817-b366-bca2e62d8d6e",
   "metadata": {},
   "outputs": [],
   "source": [
    "intSlider <- mkIntSlider\n",
    "setField intSlider IntValue 7\n",
    "setField intSlider MinInt 0\n",
    "setField intSlider MaxInt 100\n",
    "setField intSlider StepInt $ Just 1\n",
    "setField intSlider Description \"Test: \"\n",
    "setField intSlider Disabled False\n",
    "setField intSlider ContinuousUpdate False\n",
    "setField intSlider Orientation HorizontalOrientation\n",
    "setField intSlider ReadOut True\n",
    "setField intSlider ReadOutFormat \"d\"\n",
    "intSlider"
   ]
  },
  {
   "cell_type": "markdown",
   "id": "7fd35980-f787-459c-9204-83a7f48973b0",
   "metadata": {},
   "source": [
    "### FloatSlider\n",
    "An example of a float slider displayed vertically"
   ]
  },
  {
   "cell_type": "code",
   "execution_count": 14,
   "id": "6a96cd33-8007-42b1-b618-0b96bb8bbe31",
   "metadata": {},
   "outputs": [
    {
     "data": {
      "application/vnd.jupyter.widget-view+json": {
       "model_id": "db3f2fff-e7ca-43c2-bc2f-d66adc3ae541",
       "version_major": 2,
       "version_minor": 0
      }
     },
     "metadata": {},
     "output_type": "display_data"
    }
   ],
   "source": [
    "floatSlider <- mkFloatSlider\n",
    "setField floatSlider FloatValue 7.5\n",
    "setField floatSlider MinFloat 0.0\n",
    "setField floatSlider MaxFloat 10.0\n",
    "setField floatSlider StepFloat $ Just 0.1\n",
    "setField floatSlider Description \"Test float: \"\n",
    "setField floatSlider Disabled False\n",
    "setField floatSlider ContinuousUpdate False\n",
    "setField floatSlider Orientation VerticalOrientation\n",
    "setField floatSlider ReadOut True\n",
    "setField floatSlider ReadOutFormat \".1f\"\n",
    "floatSlider"
   ]
  },
  {
   "cell_type": "markdown",
   "id": "1a040a09-5d39-4c8e-a1ae-d732e390fbb2",
   "metadata": {},
   "source": [
    "### FloatLogSlider\n",
    "Like a normal slider, but every step multiplies by a quantity, creating an exponential value (or a log scale). `MinFloat` and `MaxFloat` refer to the minimum and maximum **exponents** of the `BaseFloat`."
   ]
  },
  {
   "cell_type": "code",
   "execution_count": 28,
   "id": "f09bec94-8bb3-45ce-99fe-a3bcb48852ec",
   "metadata": {},
   "outputs": [
    {
     "data": {
      "application/vnd.jupyter.widget-view+json": {
       "model_id": "89dc421c-8035-44dc-a8e6-ebf101b84b25",
       "version_major": 2,
       "version_minor": 0
      }
     },
     "metadata": {},
     "output_type": "display_data"
    }
   ],
   "source": [
    "floatLogSlider <- mkFloatLogSlider\n",
    "setField floatLogSlider FloatValue 10\n",
    "setField floatLogSlider BaseFloat 10\n",
    "setField floatLogSlider MinFloat (-10)\n",
    "setField floatLogSlider MaxFloat 10\n",
    "setField floatLogSlider StepFloat $ Just 0.2\n",
    "setField floatLogSlider Description \"A log slider\"\n",
    "floatLogSlider"
   ]
  },
  {
   "cell_type": "markdown",
   "id": "6ee6499d-c970-4ce1-aa19-45450a7b614b",
   "metadata": {},
   "source": [
    "### IntRangeSlider\n",
    "Lets you choose a range of two values"
   ]
  },
  {
   "cell_type": "code",
   "execution_count": 37,
   "id": "7ba73761-5487-44c7-a8c2-5d315a33fa6a",
   "metadata": {},
   "outputs": [
    {
     "data": {
      "application/vnd.jupyter.widget-view+json": {
       "model_id": "458324e9-42b3-4465-8ec8-9b8a4ef5b26c",
       "version_major": 2,
       "version_minor": 0
      }
     },
     "metadata": {},
     "output_type": "display_data"
    }
   ],
   "source": [
    "intRangeSlider <- mkIntRangeSlider\n",
    "setField intRangeSlider IntPairValue (5,7)\n",
    "setField intRangeSlider MinInt 0\n",
    "setField intRangeSlider MaxInt 10\n",
    "setField intRangeSlider StepInt $ Just 1\n",
    "setField intRangeSlider Disabled False\n",
    "setField intRangeSlider ContinuousUpdate False\n",
    "setField intRangeSlider Orientation HorizontalOrientation\n",
    "setField intRangeSlider ReadOut True\n",
    "setField intRangeSlider ReadOutFormat \"d\"\n",
    "intRangeSlider"
   ]
  },
  {
   "cell_type": "markdown",
   "id": "ace46345-d799-40ba-9964-eb97e44d55a2",
   "metadata": {},
   "source": [
    "### FloatRangeSlider"
   ]
  },
  {
   "cell_type": "code",
   "execution_count": 39,
   "id": "1098100a-c2f8-4883-a8ce-3a03560447bb",
   "metadata": {},
   "outputs": [
    {
     "data": {
      "application/vnd.jupyter.widget-view+json": {
       "model_id": "38a81ed3-b631-43bc-9879-3487f7cf2f5b",
       "version_major": 2,
       "version_minor": 0
      }
     },
     "metadata": {},
     "output_type": "display_data"
    }
   ],
   "source": [
    "floatRangeSlider <- mkFloatRangeSlider\n",
    "setField floatRangeSlider FloatPairValue (5.0,7.5)\n",
    "setField floatRangeSlider MinFloat 0\n",
    "setField floatRangeSlider MaxFloat 10\n",
    "setField floatRangeSlider StepFloat $ Just 0.1\n",
    "setField floatRangeSlider Disabled False\n",
    "setField floatRangeSlider ContinuousUpdate False\n",
    "setField floatRangeSlider Orientation HorizontalOrientation\n",
    "setField floatRangeSlider ReadOut True\n",
    "setField floatRangeSlider ReadOutFormat \".1f\"\n",
    "floatRangeSlider"
   ]
  },
  {
   "cell_type": "markdown",
   "id": "11b9018d-aff6-414d-89c6-a61026ea084a",
   "metadata": {},
   "source": [
    "### IntProgress\n",
    "- `BarStyle` can be one of: \n",
    "    - `DefaultBar`\n",
    "    - `SuccessBar`\n",
    "    - `InfoBar`\n",
    "    - `WarningBar`\n",
    "    - `DangerBar`"
   ]
  },
  {
   "cell_type": "code",
   "execution_count": 47,
   "id": "1f47e516-a0df-4365-9093-a9649adbcfbb",
   "metadata": {},
   "outputs": [
    {
     "data": {
      "application/vnd.jupyter.widget-view+json": {
       "model_id": "dccff154-61d3-4fe5-a671-4224ff68f913",
       "version_major": 2,
       "version_minor": 0
      }
     },
     "metadata": {},
     "output_type": "display_data"
    }
   ],
   "source": [
    "intProgress <- mkIntProgress\n",
    "setField intProgress IntValue 7\n",
    "setField intProgress MinInt 0\n",
    "setField intProgress MaxInt 10\n",
    "setField intProgress Description \"Now loading\"\n",
    "setField intProgress BarStyle DefaultBar\n",
    "intProgress"
   ]
  },
  {
   "cell_type": "code",
   "execution_count": 51,
   "id": "eef18bbb-c96b-47f1-bdab-a12b0c66b865",
   "metadata": {},
   "outputs": [
    {
     "ename": "",
     "evalue": "",
     "header": "MessageHeader {mhIdentifiers = [\"70a6e091-e992-4fb5-819f-0f726b662d5b\"], mhParentHeader = Just (MessageHeader {mhIdentifiers = [\"70a6e091-e992-4fb5-819f-0f726b662d5b\"], mhParentHeader = Nothing, mhMetadata = Metadata (fromList [(\"recordTiming\",Bool False),(\"deletedCells\",Array []),(\"cellId\",String \"eef18bbb-c96b-47f1-bdab-a12b0c66b865\")]), mhMessageId = UUID {uuidToString = \"057f3036-687c-49e1-93d5-7a0c06d5adee\"}, mhSessionId = UUID {uuidToString = \"70a6e091-e992-4fb5-819f-0f726b662d5b\"}, mhUsername = \"\", mhMsgType = ExecuteRequestMessage, mhBuffers = []}), mhMetadata = Metadata (fromList []), mhMessageId = UUID {uuidToString = \"749ddfdc-d48e-4478-a40a-918b74691e2d\"}, mhSessionId = UUID {uuidToString = \"70a6e091-e992-4fb5-819f-0f726b662d5b\"}, mhUsername = \"\", mhMsgType = ExecuteErrorMessage, mhBuffers = []}",
     "output_type": "error",
     "traceback": [
      "<interactive>:1:2: error: Not in scope: data constructor ‘StyleWidget’"
     ]
    }
   ],
   "source": [
    "(StyleWidget s) <- getField intProgress Style\n",
    ":t s\n",
    "setField s "
   ]
  }
 ],
 "metadata": {
  "kernelspec": {
   "display_name": "Haskell",
   "language": "haskell",
   "name": "haskell"
  },
  "language_info": {
   "codemirror_mode": "ihaskell",
   "file_extension": ".hs",
   "mimetype": "text/x-haskell",
   "name": "haskell",
   "pygments_lexer": "Haskell",
   "version": "8.10.4"
  }
 },
 "nbformat": 4,
 "nbformat_minor": 5
}
