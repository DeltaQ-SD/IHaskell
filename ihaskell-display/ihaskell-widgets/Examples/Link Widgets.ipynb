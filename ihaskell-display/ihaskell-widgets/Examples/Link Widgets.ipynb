{
 "cells": [
  {
   "cell_type": "code",
   "execution_count": 1,
   "id": "a0d6ef1e-d8cd-40dc-8928-aa984ea6e788",
   "metadata": {},
   "outputs": [
    {
     "data": {
      "text/html": [
       "<style>/* Styles used for the Hoogle display in the pager */\n",
       ".hoogle-doc {\n",
       "display: block;\n",
       "padding-bottom: 1.3em;\n",
       "padding-left: 0.4em;\n",
       "}\n",
       ".hoogle-code {\n",
       "display: block;\n",
       "font-family: monospace;\n",
       "white-space: pre;\n",
       "}\n",
       ".hoogle-text {\n",
       "display: block;\n",
       "}\n",
       ".hoogle-name {\n",
       "color: green;\n",
       "font-weight: bold;\n",
       "}\n",
       ".hoogle-head {\n",
       "font-weight: bold;\n",
       "}\n",
       ".hoogle-sub {\n",
       "display: block;\n",
       "margin-left: 0.4em;\n",
       "}\n",
       ".hoogle-package {\n",
       "font-weight: bold;\n",
       "font-style: italic;\n",
       "}\n",
       ".hoogle-module {\n",
       "font-weight: bold;\n",
       "}\n",
       ".hoogle-class {\n",
       "font-weight: bold;\n",
       "}\n",
       ".get-type {\n",
       "color: green;\n",
       "font-weight: bold;\n",
       "font-family: monospace;\n",
       "display: block;\n",
       "white-space: pre-wrap;\n",
       "}\n",
       ".show-type {\n",
       "color: green;\n",
       "font-weight: bold;\n",
       "font-family: monospace;\n",
       "margin-left: 1em;\n",
       "}\n",
       ".mono {\n",
       "font-family: monospace;\n",
       "display: block;\n",
       "}\n",
       ".err-msg {\n",
       "color: red;\n",
       "font-style: italic;\n",
       "font-family: monospace;\n",
       "white-space: pre;\n",
       "display: block;\n",
       "}\n",
       "#unshowable {\n",
       "color: red;\n",
       "font-weight: bold;\n",
       "}\n",
       ".err-msg.in.collapse {\n",
       "padding-top: 0.7em;\n",
       "}\n",
       ".highlight-code {\n",
       "white-space: pre;\n",
       "font-family: monospace;\n",
       "}\n",
       ".suggestion-warning { \n",
       "font-weight: bold;\n",
       "color: rgb(200, 130, 0);\n",
       "}\n",
       ".suggestion-error { \n",
       "font-weight: bold;\n",
       "color: red;\n",
       "}\n",
       ".suggestion-name {\n",
       "font-weight: bold;\n",
       "}\n",
       "</style><div class=\"suggestion-name\" style=\"clear:both;\">Unused LANGUAGE pragma</div><div class=\"suggestion-row\" style=\"float: left;\"><div class=\"suggestion-warning\">Found:</div><div class=\"highlight-code\" id=\"haskell\">{-# LANGUAGE OverloadedStrings #-}</div></div><div class=\"suggestion-row\" style=\"float: left;\"><div class=\"suggestion-warning\">Why Not:</div><div class=\"highlight-code\" id=\"haskell\"></div></div>"
      ],
      "text/plain": [
       "Line 1: Unused LANGUAGE pragma\n",
       "Found:\n",
       "{-# LANGUAGE OverloadedStrings #-}\n",
       "Why not:"
      ]
     },
     "metadata": {},
     "output_type": "display_data"
    }
   ],
   "source": [
    "{-# LANGUAGE OverloadedStrings #-}\n",
    "import IHaskell.Display.Widgets"
   ]
  },
  {
   "cell_type": "markdown",
   "id": "bdf75813-33a0-4b98-a41a-35b3d88bcee9",
   "metadata": {},
   "source": [
    "# The `Link` widgets"
   ]
  },
  {
   "cell_type": "code",
   "execution_count": 2,
   "id": "107c6fc9-c1fd-433d-8719-fa3daea8bc51",
   "metadata": {},
   "outputs": [
    {
     "data": {
      "application/vnd.jupyter.widget-view+json": {
       "model_id": "89dcb9bc-8085-4087-8992-8c440fecee25",
       "version_major": 2,
       "version_minor": 0
      }
     },
     "metadata": {},
     "output_type": "display_data"
    },
    {
     "data": {
      "application/vnd.jupyter.widget-view+json": {
       "model_id": "a31e978c-bc60-4d4c-bf4b-f9a5962d2873",
       "version_major": 2,
       "version_minor": 0
      }
     },
     "metadata": {},
     "output_type": "display_data"
    }
   ],
   "source": [
    "is1 <- mkIntSlider\n",
    "is2 <- mkIntSlider\n",
    "\n",
    "is1\n",
    "is2"
   ]
  },
  {
   "cell_type": "code",
   "execution_count": 3,
   "id": "a8334d7b-d687-49c7-a191-fa3970690e1a",
   "metadata": {},
   "outputs": [
    {
     "data": {
      "text/plain": []
     },
     "metadata": {},
     "output_type": "display_data"
    }
   ],
   "source": [
    "link <- mkLink\n",
    "setField link Source (WidgetFieldPair is1 IntValue)\n",
    "setField link Target (WidgetFieldPair is2 IntValue)"
   ]
  },
  {
   "cell_type": "code",
   "execution_count": 4,
   "id": "f71e323b-ac72-42e5-8823-b768d6f9cb58",
   "metadata": {},
   "outputs": [
    {
     "data": {
      "application/vnd.jupyter.widget-view+json": {
       "model_id": "e1eebc22-055d-4b52-b020-4fd30dea38fb",
       "version_major": 2,
       "version_minor": 0
      }
     },
     "metadata": {},
     "output_type": "display_data"
    },
    {
     "data": {
      "application/vnd.jupyter.widget-view+json": {
       "model_id": "d3b37a97-0423-4ff1-969d-1e8c76946f18",
       "version_major": 2,
       "version_minor": 0
      }
     },
     "metadata": {},
     "output_type": "display_data"
    }
   ],
   "source": [
    "fs1 <- mkFloatSlider\n",
    "fs2 <- mkFloatSlider\n",
    "\n",
    "fs1\n",
    "fs2"
   ]
  },
  {
   "cell_type": "code",
   "execution_count": 5,
   "id": "c3a64106-3a89-4cfb-9a07-da251ebf9d1a",
   "metadata": {},
   "outputs": [
    {
     "data": {
      "text/plain": []
     },
     "metadata": {},
     "output_type": "display_data"
    }
   ],
   "source": [
    "link <- mkDirectionalLink\n",
    "setField link Source (WidgetFieldPair fs1 FloatValue)\n",
    "setField link Target (WidgetFieldPair fs2 FloatValue)"
   ]
  },
  {
   "cell_type": "code",
   "execution_count": 8,
   "id": "91ccf115-57b4-4176-b157-0e79c27f4341",
   "metadata": {},
   "outputs": [
    {
     "data": {
      "application/vnd.jupyter.widget-view+json": {
       "model_id": "f12e8868-2684-4ccc-b6da-60d0a30425d9",
       "version_major": 2,
       "version_minor": 0
      }
     },
     "metadata": {},
     "output_type": "display_data"
    },
    {
     "data": {
      "application/vnd.jupyter.widget-view+json": {
       "model_id": "aecf1170-0f04-4dfa-9dc1-98a751599847",
       "version_major": 2,
       "version_minor": 0
      }
     },
     "metadata": {},
     "output_type": "display_data"
    }
   ],
   "source": [
    "chk <- mkCheckBox\n",
    "tgb <- mkToggleButton\n",
    "\n",
    "-- The Link widget cannot be displayed, so we ignore the return value\n",
    "_ <- jsdlink (WidgetFieldPair chk BoolValue) (WidgetFieldPair tgb BoolValue)\n",
    "\n",
    "chk\n",
    "tgb"
   ]
  },
  {
   "cell_type": "code",
   "execution_count": null,
   "id": "ee974e80-4d83-4e3a-9496-e08756fdfd17",
   "metadata": {},
   "outputs": [],
   "source": []
  }
 ],
 "metadata": {
  "kernelspec": {
   "display_name": "Haskell",
   "language": "haskell",
   "name": "haskell"
  },
  "language_info": {
   "codemirror_mode": "ihaskell",
   "file_extension": ".hs",
   "mimetype": "text/x-haskell",
   "name": "haskell",
   "pygments_lexer": "Haskell",
   "version": "8.10.4"
  }
 },
 "nbformat": 4,
 "nbformat_minor": 5
}
